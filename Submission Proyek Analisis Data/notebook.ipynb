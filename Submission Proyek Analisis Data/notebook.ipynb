{
  "cells": [
    {
      "cell_type": "markdown",
      "metadata": {
        "id": "H9wADwK78DCz"
      },
      "source": [
        "# Proyek Analisis Data: [E-Commerce Public Dataset]\n",
        "- **Nama:** [Mochammad Azriel Rizky Syahputra]\n",
        "- **Email:** [saputraarel@gmail.com]\n",
        "- **ID Dicoding:** [saputraarel_28]"
      ]
    },
    {
      "cell_type": "markdown",
      "metadata": {
        "id": "eE0raob58DC0"
      },
      "source": [
        "## Menentukan Pertanyaan Bisnis"
      ]
    },
    {
      "cell_type": "markdown",
      "metadata": {
        "id": "GmQeQ5YF8DC0"
      },
      "source": [
        "- Berapa rata-rata jumlah pembayaran per transaksi?\n",
        "- Bagaimana distribusi skor ulasan pelanggan?"
      ]
    },
    {
      "cell_type": "markdown",
      "metadata": {
        "id": "H-z4QGlO8DC1"
      },
      "source": [
        "## Import Semua Packages/Library yang Digunakan"
      ]
    },
    {
      "cell_type": "code",
      "execution_count": 1,
      "metadata": {
        "id": "FVYwaObI8DC1"
      },
      "outputs": [],
      "source": [
        "import pandas as pd\n",
        "import numpy as np\n",
        "import matplotlib.pyplot as plt\n",
        "import seaborn as sns\n",
        "import os\n",
        "from google.colab import files"
      ]
    },
    {
      "cell_type": "markdown",
      "metadata": {
        "id": "h_Sh51Xy8DC1"
      },
      "source": [
        "## Data Wrangling"
      ]
    },
    {
      "cell_type": "markdown",
      "metadata": {
        "id": "sXU2GBYu8DC1"
      },
      "source": [
        "### Gathering Data"
      ]
    },
    {
      "cell_type": "code",
      "execution_count": 2,
      "metadata": {
        "id": "zjCBk1BI8DC1"
      },
      "outputs": [],
      "source": [
        "df = {\n",
        "    \"customers\": \"/content/customers_dataset.csv\",\n",
        "    \"geolocation\": \"/content/geolocation_dataset.csv\",\n",
        "    \"order_items\": \"/content/order_items_dataset.csv\",\n",
        "    \"order_payments\": \"/content/order_payments_dataset.csv\",\n",
        "    \"order_reviews\": \"/content/order_reviews_dataset.csv\",\n",
        "    \"orders\": \"/content/orders_dataset.csv\",\n",
        "    \"products\": \"/content/products_dataset.csv\",\n",
        "    \"sellers\": \"/content/sellers_dataset.csv\",\n",
        "    \"category_translation\": \"/content/product_category_name_translation.csv\",\n",
        "}"
      ]
    },
    {
      "cell_type": "markdown",
      "source": [
        "**Insight:**\n",
        "- Dataset ini berisi informasi pelanggan (customers), geolokasi (geolocation), pesanan (orders), item pesanan (order_items), pembayaran (order_payments), ulasan pelanggan (order_reviews), produk (products), penjual (sellers), serta terjemahan kategori produk (category_translation).\n",
        "File Dataset Berada dalam Format CSV dan Perlu Dibaca ke dalam DataFrame.\n",
        "-  Semua dataset disimpan dalam format CSV, yang perlu dibaca menggunakan pd.read_csv() sebelum dapat digunakan untuk analisis lebih lanjut."
      ],
      "metadata": {
        "id": "MMi6xGaDkbCi"
      }
    },
    {
      "cell_type": "markdown",
      "metadata": {
        "id": "FHSiqaZp8DC1"
      },
      "source": [
        "### Assessing Data"
      ]
    },
    {
      "cell_type": "code",
      "source": [
        "datasets = {name: pd.read_csv(path) for name, path in df.items()}"
      ],
      "metadata": {
        "id": "ax-3tEjc9Cj1"
      },
      "execution_count": 3,
      "outputs": []
    },
    {
      "cell_type": "code",
      "source": [
        "info_summary = {name: df.info() for name, df in datasets.items()}\n",
        "info_summary"
      ],
      "metadata": {
        "colab": {
          "base_uri": "https://localhost:8080/"
        },
        "id": "QQUGyMlrUasH",
        "outputId": "d9d08311-95a4-459e-ceba-92914cf941c2"
      },
      "execution_count": 4,
      "outputs": [
        {
          "output_type": "stream",
          "name": "stdout",
          "text": [
            "<class 'pandas.core.frame.DataFrame'>\n",
            "RangeIndex: 99441 entries, 0 to 99440\n",
            "Data columns (total 5 columns):\n",
            " #   Column                    Non-Null Count  Dtype \n",
            "---  ------                    --------------  ----- \n",
            " 0   customer_id               99441 non-null  object\n",
            " 1   customer_unique_id        99441 non-null  object\n",
            " 2   customer_zip_code_prefix  99441 non-null  int64 \n",
            " 3   customer_city             99441 non-null  object\n",
            " 4   customer_state            99441 non-null  object\n",
            "dtypes: int64(1), object(4)\n",
            "memory usage: 3.8+ MB\n",
            "<class 'pandas.core.frame.DataFrame'>\n",
            "RangeIndex: 1000163 entries, 0 to 1000162\n",
            "Data columns (total 5 columns):\n",
            " #   Column                       Non-Null Count    Dtype  \n",
            "---  ------                       --------------    -----  \n",
            " 0   geolocation_zip_code_prefix  1000163 non-null  int64  \n",
            " 1   geolocation_lat              1000163 non-null  float64\n",
            " 2   geolocation_lng              1000163 non-null  float64\n",
            " 3   geolocation_city             1000163 non-null  object \n",
            " 4   geolocation_state            1000163 non-null  object \n",
            "dtypes: float64(2), int64(1), object(2)\n",
            "memory usage: 38.2+ MB\n",
            "<class 'pandas.core.frame.DataFrame'>\n",
            "RangeIndex: 112650 entries, 0 to 112649\n",
            "Data columns (total 7 columns):\n",
            " #   Column               Non-Null Count   Dtype  \n",
            "---  ------               --------------   -----  \n",
            " 0   order_id             112650 non-null  object \n",
            " 1   order_item_id        112650 non-null  int64  \n",
            " 2   product_id           112650 non-null  object \n",
            " 3   seller_id            112650 non-null  object \n",
            " 4   shipping_limit_date  112650 non-null  object \n",
            " 5   price                112650 non-null  float64\n",
            " 6   freight_value        112650 non-null  float64\n",
            "dtypes: float64(2), int64(1), object(4)\n",
            "memory usage: 6.0+ MB\n",
            "<class 'pandas.core.frame.DataFrame'>\n",
            "RangeIndex: 103886 entries, 0 to 103885\n",
            "Data columns (total 5 columns):\n",
            " #   Column                Non-Null Count   Dtype  \n",
            "---  ------                --------------   -----  \n",
            " 0   order_id              103886 non-null  object \n",
            " 1   payment_sequential    103886 non-null  int64  \n",
            " 2   payment_type          103886 non-null  object \n",
            " 3   payment_installments  103886 non-null  int64  \n",
            " 4   payment_value         103886 non-null  float64\n",
            "dtypes: float64(1), int64(2), object(2)\n",
            "memory usage: 4.0+ MB\n",
            "<class 'pandas.core.frame.DataFrame'>\n",
            "RangeIndex: 99224 entries, 0 to 99223\n",
            "Data columns (total 7 columns):\n",
            " #   Column                   Non-Null Count  Dtype \n",
            "---  ------                   --------------  ----- \n",
            " 0   review_id                99224 non-null  object\n",
            " 1   order_id                 99224 non-null  object\n",
            " 2   review_score             99224 non-null  int64 \n",
            " 3   review_comment_title     11568 non-null  object\n",
            " 4   review_comment_message   40977 non-null  object\n",
            " 5   review_creation_date     99224 non-null  object\n",
            " 6   review_answer_timestamp  99224 non-null  object\n",
            "dtypes: int64(1), object(6)\n",
            "memory usage: 5.3+ MB\n",
            "<class 'pandas.core.frame.DataFrame'>\n",
            "RangeIndex: 99441 entries, 0 to 99440\n",
            "Data columns (total 8 columns):\n",
            " #   Column                         Non-Null Count  Dtype \n",
            "---  ------                         --------------  ----- \n",
            " 0   order_id                       99441 non-null  object\n",
            " 1   customer_id                    99441 non-null  object\n",
            " 2   order_status                   99441 non-null  object\n",
            " 3   order_purchase_timestamp       99441 non-null  object\n",
            " 4   order_approved_at              99281 non-null  object\n",
            " 5   order_delivered_carrier_date   97658 non-null  object\n",
            " 6   order_delivered_customer_date  96476 non-null  object\n",
            " 7   order_estimated_delivery_date  99441 non-null  object\n",
            "dtypes: object(8)\n",
            "memory usage: 6.1+ MB\n",
            "<class 'pandas.core.frame.DataFrame'>\n",
            "RangeIndex: 32951 entries, 0 to 32950\n",
            "Data columns (total 9 columns):\n",
            " #   Column                      Non-Null Count  Dtype  \n",
            "---  ------                      --------------  -----  \n",
            " 0   product_id                  32951 non-null  object \n",
            " 1   product_category_name       32341 non-null  object \n",
            " 2   product_name_lenght         32341 non-null  float64\n",
            " 3   product_description_lenght  32341 non-null  float64\n",
            " 4   product_photos_qty          32341 non-null  float64\n",
            " 5   product_weight_g            32949 non-null  float64\n",
            " 6   product_length_cm           32949 non-null  float64\n",
            " 7   product_height_cm           32949 non-null  float64\n",
            " 8   product_width_cm            32949 non-null  float64\n",
            "dtypes: float64(7), object(2)\n",
            "memory usage: 2.3+ MB\n",
            "<class 'pandas.core.frame.DataFrame'>\n",
            "RangeIndex: 3095 entries, 0 to 3094\n",
            "Data columns (total 4 columns):\n",
            " #   Column                  Non-Null Count  Dtype \n",
            "---  ------                  --------------  ----- \n",
            " 0   seller_id               3095 non-null   object\n",
            " 1   seller_zip_code_prefix  3095 non-null   int64 \n",
            " 2   seller_city             3095 non-null   object\n",
            " 3   seller_state            3095 non-null   object\n",
            "dtypes: int64(1), object(3)\n",
            "memory usage: 96.8+ KB\n",
            "<class 'pandas.core.frame.DataFrame'>\n",
            "RangeIndex: 71 entries, 0 to 70\n",
            "Data columns (total 2 columns):\n",
            " #   Column                         Non-Null Count  Dtype \n",
            "---  ------                         --------------  ----- \n",
            " 0   product_category_name          71 non-null     object\n",
            " 1   product_category_name_english  71 non-null     object\n",
            "dtypes: object(2)\n",
            "memory usage: 1.2+ KB\n"
          ]
        },
        {
          "output_type": "execute_result",
          "data": {
            "text/plain": [
              "{'customers': None,\n",
              " 'geolocation': None,\n",
              " 'order_items': None,\n",
              " 'order_payments': None,\n",
              " 'order_reviews': None,\n",
              " 'orders': None,\n",
              " 'products': None,\n",
              " 'sellers': None,\n",
              " 'category_translation': None}"
            ]
          },
          "metadata": {},
          "execution_count": 4
        }
      ]
    },
    {
      "cell_type": "markdown",
      "source": [
        "**Insight:**\n",
        "- Menunjukkan bahwa setiap dataset memiliki jumlah entri yang bervariasi, dengan atribut yang beragam sesuai dengan fungsinya. Dataset seperti customers, geolocation, dan orders memiliki lebih dari 90.000 entri, sementara sellers dan category_translation memiliki jauh lebih sedikit data. Selain itu, beberapa dataset memiliki kolom dengan nilai kosong yang signifikan, seperti review_comment_title dan review_comment_message dalam order_reviews, serta atribut produk dalam products. Hal ini menunjukkan perlunya pembersihan data sebelum analisis lebih lanjut.\n",
        "- Dataset memiliki tipe data yang terdiri dari object, int64, dan float64, dengan beberapa kolom tanggal yang masih dalam format string (object). Untuk analisis berbasis waktu, kolom seperti order_purchase_timestamp dan review_creation_date perlu dikonversi ke tipe datetime. Dataset ini juga menunjukkan hubungan antar tabel, misalnya order_items yang menghubungkan pesanan dengan produk dan penjual, serta order_payments yang mencatat metode pembayaran untuk setiap pesanan."
      ],
      "metadata": {
        "id": "7dtxhAPrkhPL"
      }
    },
    {
      "cell_type": "markdown",
      "metadata": {
        "id": "EhN5R4hr8DC1"
      },
      "source": [
        "### Cleaning Data"
      ]
    },
    {
      "cell_type": "markdown",
      "source": [
        "- Menangani Missing Values"
      ],
      "metadata": {
        "id": "5qZICC8eVfaw"
      }
    },
    {
      "cell_type": "code",
      "source": [
        "orders = datasets['orders']\n",
        "orders['order_approved_at'].fillna(orders['order_purchase_timestamp'], inplace=True)\n",
        "orders.loc[(orders[\"order_status\"] == \"delivered\") & (orders[\"order_delivered_customer_date\"].isna()),\n",
        "           \"order_delivered_customer_date\"] = orders[\"order_estimated_delivery_date\"]\n",
        "orders.loc[(orders[\"order_status\"] == \"delivered\") & (orders[\"order_delivered_carrier_date\"].isna()),\n",
        "           \"order_delivered_carrier_date\"] = orders[\"order_purchase_timestamp\"]\n",
        "\n",
        "date_cols = [\"shipping_limit_date\", \"order_purchase_timestamp\", \"order_approved_at\",\n",
        "             \"order_delivered_carrier_date\", \"order_delivered_customer_date\", \"order_estimated_delivery_date\",\n",
        "             \"review_creation_date\", \"review_answer_timestamp\"]\n",
        "for col in date_cols:\n",
        "    for key in [\"order_items\", \"orders\", \"order_reviews\"]:\n",
        "        if col in datasets[key].columns:\n",
        "            datasets[key][col] = pd.to_datetime(datasets[key][col])\n",
        "\n",
        "datasets[\"order_reviews\"][\"review_comment_title\"].fillna(\"No Comment\", inplace=True)\n",
        "datasets[\"order_reviews\"][\"review_comment_message\"].fillna(\"No Comment\", inplace=True)\n",
        "datasets[\"order_reviews\"].dropna(subset=[\"review_score\"], inplace=True)\n",
        "\n",
        "datasets[\"products\"].fillna({\"product_name_length\": 0,\n",
        "                             \"product_description_lenght\": 0,\n",
        "                             \"product_photos_qty\": 0}, inplace=True)\n",
        "datasets[\"products\"].dropna(subset=[\"product_category_name\"], inplace=True)"
      ],
      "metadata": {
        "id": "jVnYpprE9Evz",
        "colab": {
          "base_uri": "https://localhost:8080/"
        },
        "outputId": "6df808b4-5036-4211-c644-3c88e5f52abe"
      },
      "execution_count": 5,
      "outputs": [
        {
          "output_type": "stream",
          "name": "stderr",
          "text": [
            "<ipython-input-5-6b59b481abac>:2: FutureWarning: A value is trying to be set on a copy of a DataFrame or Series through chained assignment using an inplace method.\n",
            "The behavior will change in pandas 3.0. This inplace method will never work because the intermediate object on which we are setting values always behaves as a copy.\n",
            "\n",
            "For example, when doing 'df[col].method(value, inplace=True)', try using 'df.method({col: value}, inplace=True)' or df[col] = df[col].method(value) instead, to perform the operation inplace on the original object.\n",
            "\n",
            "\n",
            "  orders['order_approved_at'].fillna(orders['order_purchase_timestamp'], inplace=True)\n",
            "<ipython-input-5-6b59b481abac>:16: FutureWarning: A value is trying to be set on a copy of a DataFrame or Series through chained assignment using an inplace method.\n",
            "The behavior will change in pandas 3.0. This inplace method will never work because the intermediate object on which we are setting values always behaves as a copy.\n",
            "\n",
            "For example, when doing 'df[col].method(value, inplace=True)', try using 'df.method({col: value}, inplace=True)' or df[col] = df[col].method(value) instead, to perform the operation inplace on the original object.\n",
            "\n",
            "\n",
            "  datasets[\"order_reviews\"][\"review_comment_title\"].fillna(\"No Comment\", inplace=True)\n",
            "<ipython-input-5-6b59b481abac>:17: FutureWarning: A value is trying to be set on a copy of a DataFrame or Series through chained assignment using an inplace method.\n",
            "The behavior will change in pandas 3.0. This inplace method will never work because the intermediate object on which we are setting values always behaves as a copy.\n",
            "\n",
            "For example, when doing 'df[col].method(value, inplace=True)', try using 'df.method({col: value}, inplace=True)' or df[col] = df[col].method(value) instead, to perform the operation inplace on the original object.\n",
            "\n",
            "\n",
            "  datasets[\"order_reviews\"][\"review_comment_message\"].fillna(\"No Comment\", inplace=True)\n"
          ]
        }
      ]
    },
    {
      "cell_type": "markdown",
      "source": [
        "- Menghapus Data Tidak Valid dan Outlier"
      ],
      "metadata": {
        "id": "Zebz43W4VjjT"
      }
    },
    {
      "cell_type": "code",
      "source": [
        "order_items = datasets['order_items']\n",
        "order_items = order_items[(order_items['price'] >= 1) & (order_items['freight_value'] > 0)]\n",
        "\n",
        "order_payments = datasets['order_payments']\n",
        "order_payments = order_payments[order_payments['payment_value'] > 0]\n",
        "\n",
        "products = datasets['products']\n",
        "products['product_weight_g'].replace(0, products['product_weight_g'].median(), inplace=True)\n",
        "products = products[(products['product_length_cm'] > 0) & (products['product_height_cm'] > 0) & (products['product_width_cm'] > 0)]\n",
        "\n",
        "datasets['orders'] = orders\n",
        "datasets['order_items'] = order_items\n",
        "datasets['order_payments'] = order_payments\n",
        "datasets['products'] = products"
      ],
      "metadata": {
        "colab": {
          "base_uri": "https://localhost:8080/"
        },
        "id": "dwPcoocsVm68",
        "outputId": "72db98c1-3e35-4c6a-fc9a-a5f5dfe28365"
      },
      "execution_count": 6,
      "outputs": [
        {
          "output_type": "stream",
          "name": "stderr",
          "text": [
            "<ipython-input-6-29bec9f75d12>:8: FutureWarning: A value is trying to be set on a copy of a DataFrame or Series through chained assignment using an inplace method.\n",
            "The behavior will change in pandas 3.0. This inplace method will never work because the intermediate object on which we are setting values always behaves as a copy.\n",
            "\n",
            "For example, when doing 'df[col].method(value, inplace=True)', try using 'df.method({col: value}, inplace=True)' or df[col] = df[col].method(value) instead, to perform the operation inplace on the original object.\n",
            "\n",
            "\n",
            "  products['product_weight_g'].replace(0, products['product_weight_g'].median(), inplace=True)\n"
          ]
        }
      ]
    },
    {
      "cell_type": "markdown",
      "source": [
        "- Menyesuaikan Relasi Data"
      ],
      "metadata": {
        "id": "PGEaM4RkVsl4"
      }
    },
    {
      "cell_type": "code",
      "source": [
        "valid_orders = set(datasets[\"orders\"][\"order_id\"])\n",
        "datasets[\"order_items\"] = datasets[\"order_items\"][datasets[\"order_items\"][\"order_id\"].isin(valid_orders)]\n",
        "\n",
        "valid_customers = set(datasets[\"customers\"][\"customer_id\"])\n",
        "datasets[\"orders\"] = datasets[\"orders\"][datasets[\"orders\"][\"customer_id\"].isin(valid_customers)]"
      ],
      "metadata": {
        "id": "27ARLwCbVu6I"
      },
      "execution_count": 7,
      "outputs": []
    },
    {
      "cell_type": "markdown",
      "source": [
        "- Mengisi Nilai Kosong dan Menstandarisasi Nama Kolom"
      ],
      "metadata": {
        "id": "TZ9aNGywVya4"
      }
    },
    {
      "cell_type": "code",
      "source": [
        "for col in [\"product_weight_g\", \"product_length_cm\", \"product_height_cm\", \"product_width_cm\"]:\n",
        "    datasets[\"products\"][col].fillna(datasets[\"products\"][col].median(), inplace=True)\n",
        "\n",
        "datasets[\"products\"].rename(columns={\"product_name_lenght\": \"product_name_length\"}, inplace=True)"
      ],
      "metadata": {
        "colab": {
          "base_uri": "https://localhost:8080/"
        },
        "id": "GCcN_AO6V0mZ",
        "outputId": "0563b53a-4661-4ecf-e5ae-6c53c69107d4"
      },
      "execution_count": 8,
      "outputs": [
        {
          "output_type": "stream",
          "name": "stderr",
          "text": [
            "<ipython-input-8-f28781e8e00c>:2: FutureWarning: A value is trying to be set on a copy of a DataFrame or Series through chained assignment using an inplace method.\n",
            "The behavior will change in pandas 3.0. This inplace method will never work because the intermediate object on which we are setting values always behaves as a copy.\n",
            "\n",
            "For example, when doing 'df[col].method(value, inplace=True)', try using 'df.method({col: value}, inplace=True)' or df[col] = df[col].method(value) instead, to perform the operation inplace on the original object.\n",
            "\n",
            "\n",
            "  datasets[\"products\"][col].fillna(datasets[\"products\"][col].median(), inplace=True)\n"
          ]
        }
      ]
    },
    {
      "cell_type": "markdown",
      "source": [
        "- Menghapus Duplikasi"
      ],
      "metadata": {
        "id": "7PqxSsjMV7um"
      }
    },
    {
      "cell_type": "code",
      "source": [
        "for name, df in datasets.items():\n",
        "    datasets[name] = df.drop_duplicates()"
      ],
      "metadata": {
        "id": "SHl_Y2d7WABm"
      },
      "execution_count": 9,
      "outputs": []
    },
    {
      "cell_type": "markdown",
      "source": [
        "- Cek Hasil Cleaning"
      ],
      "metadata": {
        "id": "3ClJeUhdWCVQ"
      }
    },
    {
      "cell_type": "code",
      "source": [
        "cleaning_summary = {\n",
        "    \"orders_missing_values\": datasets['orders'].isnull().sum(),\n",
        "    \"order_items_outliers_removed\": datasets['order_items'].describe(),\n",
        "    \"order_payments_outliers_removed\": datasets['order_payments'].describe(),\n",
        "    \"products_cleaned\": datasets['products'].describe(),\n",
        "}\n",
        "\n",
        "cleaning_summary"
      ],
      "metadata": {
        "colab": {
          "base_uri": "https://localhost:8080/"
        },
        "id": "JHjLvI2dWEqq",
        "outputId": "f75a1a1d-88ba-46c8-c900-7b9bf70e2ed4"
      },
      "execution_count": 10,
      "outputs": [
        {
          "output_type": "execute_result",
          "data": {
            "text/plain": [
              "{'orders_missing_values': order_id                            0\n",
              " customer_id                         0\n",
              " order_status                        0\n",
              " order_purchase_timestamp            0\n",
              " order_approved_at                   0\n",
              " order_delivered_carrier_date     1781\n",
              " order_delivered_customer_date    2957\n",
              " order_estimated_delivery_date       0\n",
              " dtype: int64,\n",
              " 'order_items_outliers_removed':        order_item_id            shipping_limit_date          price  \\\n",
              " count  112264.000000                         112264  112264.000000   \n",
              " mean        1.198006  2018-01-07 06:12:59.348250624     120.732174   \n",
              " min         1.000000            2016-09-19 00:15:34       1.200000   \n",
              " 25%         1.000000            2017-09-20 12:05:34      39.900000   \n",
              " 50%         1.000000            2018-01-25 20:57:57      74.900000   \n",
              " 75%         1.000000     2018-05-10 13:30:32.500000     134.990000   \n",
              " max        21.000000            2020-04-09 22:35:08    6735.000000   \n",
              " std         0.705808                            NaN     183.920659   \n",
              " \n",
              "        freight_value  \n",
              " count  112264.000000  \n",
              " mean       20.058530  \n",
              " min         0.010000  \n",
              " 25%        13.100000  \n",
              " 50%        16.290000  \n",
              " 75%        21.170000  \n",
              " max       409.680000  \n",
              " std        15.790295  ,\n",
              " 'order_payments_outliers_removed':        payment_sequential  payment_installments  payment_value\n",
              " count       103877.000000         103877.000000  103877.000000\n",
              " mean             1.092340              2.853509     154.113732\n",
              " std              0.704312              2.687112     217.498755\n",
              " min              1.000000              0.000000       0.010000\n",
              " 25%              1.000000              1.000000      56.820000\n",
              " 50%              1.000000              1.000000     100.000000\n",
              " 75%              1.000000              4.000000     171.840000\n",
              " max             29.000000             24.000000   13664.080000,\n",
              " 'products_cleaned':        product_name_length  product_description_lenght  product_photos_qty  \\\n",
              " count         32340.000000                32340.000000        32340.000000   \n",
              " mean             48.476592                  771.492393            2.188961   \n",
              " std              10.245699                  635.124831            1.736787   \n",
              " min               5.000000                    4.000000            1.000000   \n",
              " 25%              42.000000                  339.000000            1.000000   \n",
              " 50%              51.000000                  595.000000            1.000000   \n",
              " 75%              57.000000                  972.000000            3.000000   \n",
              " max              76.000000                 3992.000000           20.000000   \n",
              " \n",
              "        product_weight_g  product_length_cm  product_height_cm  \\\n",
              " count      32340.000000       32340.000000       32340.000000   \n",
              " mean        2277.043166          30.854545          16.958813   \n",
              " std         4279.252856          16.955965          13.636115   \n",
              " min            2.000000           7.000000           2.000000   \n",
              " 25%          300.000000          18.000000           8.000000   \n",
              " 50%          700.000000          25.000000          13.000000   \n",
              " 75%         1900.000000          38.000000          21.000000   \n",
              " max        40425.000000         105.000000         105.000000   \n",
              " \n",
              "        product_width_cm  \n",
              " count      32340.000000  \n",
              " mean          23.208596  \n",
              " std           12.078762  \n",
              " min            6.000000  \n",
              " 25%           15.000000  \n",
              " 50%           20.000000  \n",
              " 75%           30.000000  \n",
              " max          118.000000  }"
            ]
          },
          "metadata": {},
          "execution_count": 10
        }
      ]
    },
    {
      "cell_type": "markdown",
      "source": [
        "- Menggabungkan Semua Dataset yang Sudah Dibersihkan"
      ],
      "metadata": {
        "id": "R6sZdhCRdeuc"
      }
    },
    {
      "cell_type": "code",
      "source": [
        "orders = datasets[\"orders\"]\n",
        "order_items = datasets[\"order_items\"]\n",
        "order_payments = datasets[\"order_payments\"]\n",
        "order_reviews = datasets[\"order_reviews\"]\n",
        "customers = datasets[\"customers\"]\n",
        "products = datasets[\"products\"]\n",
        "sellers = datasets[\"sellers\"]\n",
        "category_translation = datasets[\"category_translation\"]\n",
        "\n",
        "main_data = orders.merge(order_items, on=\"order_id\", how=\"left\") \\\n",
        "                  .merge(order_payments, on=\"order_id\", how=\"left\") \\\n",
        "                  .merge(order_reviews, on=\"order_id\", how=\"left\") \\\n",
        "                  .merge(customers, on=\"customer_id\", how=\"left\") \\\n",
        "                  .merge(products, on=\"product_id\", how=\"left\") \\\n",
        "                  .merge(sellers, on=\"seller_id\", how=\"left\") \\\n",
        "                  .merge(category_translation, on=\"product_category_name\", how=\"left\")\n",
        "\n",
        "file_path = \"main_data.csv\"\n",
        "main_data.to_csv(file_path, index=False)\n",
        "\n",
        "print(f\"Dataset utama telah disimpan sebagai {file_path}\")"
      ],
      "metadata": {
        "colab": {
          "base_uri": "https://localhost:8080/"
        },
        "id": "DmQrTMo0diUI",
        "outputId": "f1cf226b-8a81-4f1d-8f16-70e9a254e971"
      },
      "execution_count": 13,
      "outputs": [
        {
          "output_type": "stream",
          "name": "stdout",
          "text": [
            "Dataset utama telah disimpan sebagai main_data.csv\n"
          ]
        }
      ]
    },
    {
      "cell_type": "markdown",
      "source": [
        "- Mengunduh Dataset yang Sudah Digabungkan"
      ],
      "metadata": {
        "id": "vkyrpbHVdoUI"
      }
    },
    {
      "cell_type": "code",
      "source": [
        "files.download(\"main_data.csv\")"
      ],
      "metadata": {
        "colab": {
          "base_uri": "https://localhost:8080/",
          "height": 17
        },
        "id": "kKHeCPJDdq98",
        "outputId": "2c870dd9-2b35-4a12-8e8f-91c683860c5d"
      },
      "execution_count": 14,
      "outputs": [
        {
          "output_type": "display_data",
          "data": {
            "text/plain": [
              "<IPython.core.display.Javascript object>"
            ],
            "application/javascript": [
              "\n",
              "    async function download(id, filename, size) {\n",
              "      if (!google.colab.kernel.accessAllowed) {\n",
              "        return;\n",
              "      }\n",
              "      const div = document.createElement('div');\n",
              "      const label = document.createElement('label');\n",
              "      label.textContent = `Downloading \"${filename}\": `;\n",
              "      div.appendChild(label);\n",
              "      const progress = document.createElement('progress');\n",
              "      progress.max = size;\n",
              "      div.appendChild(progress);\n",
              "      document.body.appendChild(div);\n",
              "\n",
              "      const buffers = [];\n",
              "      let downloaded = 0;\n",
              "\n",
              "      const channel = await google.colab.kernel.comms.open(id);\n",
              "      // Send a message to notify the kernel that we're ready.\n",
              "      channel.send({})\n",
              "\n",
              "      for await (const message of channel.messages) {\n",
              "        // Send a message to notify the kernel that we're ready.\n",
              "        channel.send({})\n",
              "        if (message.buffers) {\n",
              "          for (const buffer of message.buffers) {\n",
              "            buffers.push(buffer);\n",
              "            downloaded += buffer.byteLength;\n",
              "            progress.value = downloaded;\n",
              "          }\n",
              "        }\n",
              "      }\n",
              "      const blob = new Blob(buffers, {type: 'application/binary'});\n",
              "      const a = document.createElement('a');\n",
              "      a.href = window.URL.createObjectURL(blob);\n",
              "      a.download = filename;\n",
              "      div.appendChild(a);\n",
              "      a.click();\n",
              "      div.remove();\n",
              "    }\n",
              "  "
            ]
          },
          "metadata": {}
        },
        {
          "output_type": "display_data",
          "data": {
            "text/plain": [
              "<IPython.core.display.Javascript object>"
            ],
            "application/javascript": [
              "download(\"download_4fc734d8-542d-4431-a6aa-dd153c9a71f2\", \"main_data.csv\", 66049307)"
            ]
          },
          "metadata": {}
        }
      ]
    },
    {
      "cell_type": "markdown",
      "source": [
        "**Insight:**\n",
        "- Dengan menangani missing values, outlier, dan data tidak valid, dataset menjadi lebih bersih, sehingga analisis selanjutnya lebih bisa diandalkan.\n",
        "- Konversi tanggal ke format datetime dan perbaikan struktur data (seperti mengganti nilai nol atau menghapus duplikasi) membantu meningkatkan kualitas prediksi, terutama untuk analisis waktu pengiriman atau estimasi keterlambatan."
      ],
      "metadata": {
        "id": "Q_5ejIqckiSP"
      }
    },
    {
      "cell_type": "markdown",
      "metadata": {
        "id": "gp-Y6wU38DC1"
      },
      "source": [
        "## Exploratory Data Analysis (EDA)"
      ]
    },
    {
      "cell_type": "markdown",
      "metadata": {
        "id": "MW7WF2kr8DC1"
      },
      "source": [
        "### Explore ..."
      ]
    },
    {
      "cell_type": "markdown",
      "source": [
        "- Mengeksplorasi Parameter Statistik dari Data"
      ],
      "metadata": {
        "id": "ebkV-s28WiTH"
      }
    },
    {
      "cell_type": "code",
      "execution_count": 15,
      "metadata": {
        "id": "e9CQCZjk8DC2",
        "colab": {
          "base_uri": "https://localhost:8080/"
        },
        "outputId": "aa963f22-30d0-4a89-ad36-581a53a06b67"
      },
      "outputs": [
        {
          "output_type": "execute_result",
          "data": {
            "text/plain": [
              "{'customers':        customer_zip_code_prefix\n",
              " count              99441.000000\n",
              " mean               35137.474583\n",
              " std                29797.938996\n",
              " min                 1003.000000\n",
              " 25%                11347.000000\n",
              " 50%                24416.000000\n",
              " 75%                58900.000000\n",
              " max                99990.000000,\n",
              " 'geolocation':        geolocation_zip_code_prefix  geolocation_lat  geolocation_lng\n",
              " count                738332.000000    738332.000000    738332.000000\n",
              " mean                  38316.086800       -20.998353       -46.461098\n",
              " std                   30632.496675         5.892315         4.393705\n",
              " min                    1001.000000       -36.605374      -101.466766\n",
              " 25%                   12600.000000       -23.603061       -48.867822\n",
              " 50%                   29144.000000       -22.873588       -46.647278\n",
              " 75%                   65950.000000       -19.923336       -43.836974\n",
              " max                   99990.000000        45.065933       121.105394,\n",
              " 'order_items':        order_item_id            shipping_limit_date          price  \\\n",
              " count  112264.000000                         112264  112264.000000   \n",
              " mean        1.198006  2018-01-07 06:12:59.348250624     120.732174   \n",
              " min         1.000000            2016-09-19 00:15:34       1.200000   \n",
              " 25%         1.000000            2017-09-20 12:05:34      39.900000   \n",
              " 50%         1.000000            2018-01-25 20:57:57      74.900000   \n",
              " 75%         1.000000     2018-05-10 13:30:32.500000     134.990000   \n",
              " max        21.000000            2020-04-09 22:35:08    6735.000000   \n",
              " std         0.705808                            NaN     183.920659   \n",
              " \n",
              "        freight_value  \n",
              " count  112264.000000  \n",
              " mean       20.058530  \n",
              " min         0.010000  \n",
              " 25%        13.100000  \n",
              " 50%        16.290000  \n",
              " 75%        21.170000  \n",
              " max       409.680000  \n",
              " std        15.790295  ,\n",
              " 'order_payments':        payment_sequential  payment_installments  payment_value\n",
              " count       103877.000000         103877.000000  103877.000000\n",
              " mean             1.092340              2.853509     154.113732\n",
              " std              0.704312              2.687112     217.498755\n",
              " min              1.000000              0.000000       0.010000\n",
              " 25%              1.000000              1.000000      56.820000\n",
              " 50%              1.000000              1.000000     100.000000\n",
              " 75%              1.000000              4.000000     171.840000\n",
              " max             29.000000             24.000000   13664.080000,\n",
              " 'order_reviews':        review_score           review_creation_date  \\\n",
              " count  99224.000000                          99224   \n",
              " mean       4.086421  2018-01-12 20:49:23.948238336   \n",
              " min        1.000000            2016-10-02 00:00:00   \n",
              " 25%        4.000000            2017-09-23 00:00:00   \n",
              " 50%        5.000000            2018-02-02 00:00:00   \n",
              " 75%        5.000000            2018-05-16 00:00:00   \n",
              " max        5.000000            2018-08-31 00:00:00   \n",
              " std        1.347579                            NaN   \n",
              " \n",
              "              review_answer_timestamp  \n",
              " count                          99224  \n",
              " mean   2018-01-16 00:23:56.977938688  \n",
              " min              2016-10-07 18:32:28  \n",
              " 25%    2017-09-27 01:53:27.249999872  \n",
              " 50%       2018-02-04 22:41:47.500000  \n",
              " 75%       2018-05-20 12:11:21.500000  \n",
              " max              2018-10-29 12:27:35  \n",
              " std                              NaN  ,\n",
              " 'orders':             order_purchase_timestamp              order_approved_at  \\\n",
              " count                          99441                          99441   \n",
              " mean   2017-12-31 08:43:12.776581120  2017-12-31 19:07:21.164720896   \n",
              " min              2016-09-04 21:15:19            2016-09-15 12:16:38   \n",
              " 25%              2017-09-12 14:46:19            2017-09-12 21:55:13   \n",
              " 50%              2018-01-18 23:04:36            2018-01-19 11:54:30   \n",
              " 75%              2018-05-04 15:42:16            2018-05-04 23:50:21   \n",
              " max              2018-10-17 17:30:18            2018-10-17 17:30:18   \n",
              " \n",
              "         order_delivered_carrier_date  order_delivered_customer_date  \\\n",
              " count                          97660                          96484   \n",
              " mean   2018-01-04 21:45:03.728742656  2018-01-14 12:22:27.911705344   \n",
              " min              2016-10-08 10:34:01            2016-10-11 13:46:32   \n",
              " 25%              2017-09-15 22:24:45  2017-09-25 22:08:25.750000128   \n",
              " 50%              2018-01-24 16:06:21            2018-02-02 19:32:21   \n",
              " 75%              2018-05-08 13:37:15  2018-05-15 23:08:54.249999872   \n",
              " max              2018-09-11 19:48:28            2018-10-17 13:22:46   \n",
              " \n",
              "        order_estimated_delivery_date  \n",
              " count                          99441  \n",
              " mean   2018-01-24 03:08:37.730111232  \n",
              " min              2016-09-30 00:00:00  \n",
              " 25%              2017-10-03 00:00:00  \n",
              " 50%              2018-02-15 00:00:00  \n",
              " 75%              2018-05-25 00:00:00  \n",
              " max              2018-11-12 00:00:00  ,\n",
              " 'products':        product_name_length  product_description_lenght  product_photos_qty  \\\n",
              " count         32340.000000                32340.000000        32340.000000   \n",
              " mean             48.476592                  771.492393            2.188961   \n",
              " std              10.245699                  635.124831            1.736787   \n",
              " min               5.000000                    4.000000            1.000000   \n",
              " 25%              42.000000                  339.000000            1.000000   \n",
              " 50%              51.000000                  595.000000            1.000000   \n",
              " 75%              57.000000                  972.000000            3.000000   \n",
              " max              76.000000                 3992.000000           20.000000   \n",
              " \n",
              "        product_weight_g  product_length_cm  product_height_cm  \\\n",
              " count      32340.000000       32340.000000       32340.000000   \n",
              " mean        2277.043166          30.854545          16.958813   \n",
              " std         4279.252856          16.955965          13.636115   \n",
              " min            2.000000           7.000000           2.000000   \n",
              " 25%          300.000000          18.000000           8.000000   \n",
              " 50%          700.000000          25.000000          13.000000   \n",
              " 75%         1900.000000          38.000000          21.000000   \n",
              " max        40425.000000         105.000000         105.000000   \n",
              " \n",
              "        product_width_cm  \n",
              " count      32340.000000  \n",
              " mean          23.208596  \n",
              " std           12.078762  \n",
              " min            6.000000  \n",
              " 25%           15.000000  \n",
              " 50%           20.000000  \n",
              " 75%           30.000000  \n",
              " max          118.000000  ,\n",
              " 'sellers':        seller_zip_code_prefix\n",
              " count             3095.000000\n",
              " mean             32291.059451\n",
              " std              32713.453830\n",
              " min               1001.000000\n",
              " 25%               7093.500000\n",
              " 50%              14940.000000\n",
              " 75%              64552.500000\n",
              " max              99730.000000,\n",
              " 'category_translation':        product_category_name product_category_name_english\n",
              " count                     71                            71\n",
              " unique                    71                            71\n",
              " top             beleza_saude                 health_beauty\n",
              " freq                       1                             1}"
            ]
          },
          "metadata": {},
          "execution_count": 15
        }
      ],
      "source": [
        "summary_stats = {name: df.describe() for name, df in datasets.items()}\n",
        "summary_stats"
      ]
    },
    {
      "cell_type": "markdown",
      "source": [
        "- Melihat distribusi nilai unik dalam beberapa kolom"
      ],
      "metadata": {
        "id": "J7E-gRHiWmNB"
      }
    },
    {
      "cell_type": "code",
      "source": [
        "unique_values = {name: df.nunique() for name, df in datasets.items()}\n",
        "unique_values"
      ],
      "metadata": {
        "colab": {
          "base_uri": "https://localhost:8080/"
        },
        "id": "cc5FGlfcW2VR",
        "outputId": "4dd7142d-4bc8-43ea-e627-359e05d7c147"
      },
      "execution_count": 16,
      "outputs": [
        {
          "output_type": "execute_result",
          "data": {
            "text/plain": [
              "{'customers': customer_id                 99441\n",
              " customer_unique_id          96096\n",
              " customer_zip_code_prefix    14994\n",
              " customer_city                4119\n",
              " customer_state                 27\n",
              " dtype: int64,\n",
              " 'geolocation': geolocation_zip_code_prefix     19015\n",
              " geolocation_lat                717360\n",
              " geolocation_lng                717613\n",
              " geolocation_city                 8011\n",
              " geolocation_state                  27\n",
              " dtype: int64,\n",
              " 'order_items': order_id               98326\n",
              " order_item_id             21\n",
              " product_id             32950\n",
              " seller_id               3095\n",
              " shipping_limit_date    93053\n",
              " price                   5966\n",
              " freight_value           6998\n",
              " dtype: int64,\n",
              " 'order_payments': order_id                99437\n",
              " payment_sequential         29\n",
              " payment_type                4\n",
              " payment_installments       24\n",
              " payment_value           29076\n",
              " dtype: int64,\n",
              " 'order_reviews': review_id                  98410\n",
              " order_id                   98673\n",
              " review_score                   5\n",
              " review_comment_title        4528\n",
              " review_comment_message     36160\n",
              " review_creation_date         636\n",
              " review_answer_timestamp    98248\n",
              " dtype: int64,\n",
              " 'orders': order_id                         99441\n",
              " customer_id                      99441\n",
              " order_status                         8\n",
              " order_purchase_timestamp         98875\n",
              " order_approved_at                90893\n",
              " order_delivered_carrier_date     81020\n",
              " order_delivered_customer_date    95671\n",
              " order_estimated_delivery_date      459\n",
              " dtype: int64,\n",
              " 'products': product_id                    32340\n",
              " product_category_name            73\n",
              " product_name_length              66\n",
              " product_description_lenght     2960\n",
              " product_photos_qty               19\n",
              " product_weight_g               2201\n",
              " product_length_cm                99\n",
              " product_height_cm               102\n",
              " product_width_cm                 95\n",
              " dtype: int64,\n",
              " 'sellers': seller_id                 3095\n",
              " seller_zip_code_prefix    2246\n",
              " seller_city                611\n",
              " seller_state                23\n",
              " dtype: int64,\n",
              " 'category_translation': product_category_name            71\n",
              " product_category_name_english    71\n",
              " dtype: int64}"
            ]
          },
          "metadata": {},
          "execution_count": 16
        }
      ]
    },
    {
      "cell_type": "markdown",
      "source": [
        "- Ingin melihat distribusi status pesanan"
      ],
      "metadata": {
        "id": "DQZA8VrDW5GS"
      }
    },
    {
      "cell_type": "code",
      "source": [
        "order_status_counts = datasets[\"orders\"][\"order_status\"].value_counts()\n",
        "order_status_counts"
      ],
      "metadata": {
        "colab": {
          "base_uri": "https://localhost:8080/",
          "height": 366
        },
        "id": "_LJqj4JcW-ez",
        "outputId": "a8d87f48-cd2d-4415-a833-d03cbb6adddd"
      },
      "execution_count": 17,
      "outputs": [
        {
          "output_type": "execute_result",
          "data": {
            "text/plain": [
              "order_status\n",
              "delivered      96478\n",
              "shipped         1107\n",
              "canceled         625\n",
              "unavailable      609\n",
              "invoiced         314\n",
              "processing       301\n",
              "created            5\n",
              "approved           2\n",
              "Name: count, dtype: int64"
            ],
            "text/html": [
              "<div>\n",
              "<style scoped>\n",
              "    .dataframe tbody tr th:only-of-type {\n",
              "        vertical-align: middle;\n",
              "    }\n",
              "\n",
              "    .dataframe tbody tr th {\n",
              "        vertical-align: top;\n",
              "    }\n",
              "\n",
              "    .dataframe thead th {\n",
              "        text-align: right;\n",
              "    }\n",
              "</style>\n",
              "<table border=\"1\" class=\"dataframe\">\n",
              "  <thead>\n",
              "    <tr style=\"text-align: right;\">\n",
              "      <th></th>\n",
              "      <th>count</th>\n",
              "    </tr>\n",
              "    <tr>\n",
              "      <th>order_status</th>\n",
              "      <th></th>\n",
              "    </tr>\n",
              "  </thead>\n",
              "  <tbody>\n",
              "    <tr>\n",
              "      <th>delivered</th>\n",
              "      <td>96478</td>\n",
              "    </tr>\n",
              "    <tr>\n",
              "      <th>shipped</th>\n",
              "      <td>1107</td>\n",
              "    </tr>\n",
              "    <tr>\n",
              "      <th>canceled</th>\n",
              "      <td>625</td>\n",
              "    </tr>\n",
              "    <tr>\n",
              "      <th>unavailable</th>\n",
              "      <td>609</td>\n",
              "    </tr>\n",
              "    <tr>\n",
              "      <th>invoiced</th>\n",
              "      <td>314</td>\n",
              "    </tr>\n",
              "    <tr>\n",
              "      <th>processing</th>\n",
              "      <td>301</td>\n",
              "    </tr>\n",
              "    <tr>\n",
              "      <th>created</th>\n",
              "      <td>5</td>\n",
              "    </tr>\n",
              "    <tr>\n",
              "      <th>approved</th>\n",
              "      <td>2</td>\n",
              "    </tr>\n",
              "  </tbody>\n",
              "</table>\n",
              "</div><br><label><b>dtype:</b> int64</label>"
            ]
          },
          "metadata": {},
          "execution_count": 17
        }
      ]
    },
    {
      "cell_type": "markdown",
      "source": [
        "- Cek distribusi metode pembayaran"
      ],
      "metadata": {
        "id": "lLevts8-XBDC"
      }
    },
    {
      "cell_type": "code",
      "source": [
        "payment_counts = datasets[\"order_payments\"][\"payment_type\"].value_counts()\n",
        "payment_counts"
      ],
      "metadata": {
        "colab": {
          "base_uri": "https://localhost:8080/",
          "height": 241
        },
        "id": "QlZnKt8kXEYW",
        "outputId": "06295ddc-3ebc-44ee-833b-4f882ee3e60c"
      },
      "execution_count": 18,
      "outputs": [
        {
          "output_type": "execute_result",
          "data": {
            "text/plain": [
              "payment_type\n",
              "credit_card    76795\n",
              "boleto         19784\n",
              "voucher         5769\n",
              "debit_card      1529\n",
              "Name: count, dtype: int64"
            ],
            "text/html": [
              "<div>\n",
              "<style scoped>\n",
              "    .dataframe tbody tr th:only-of-type {\n",
              "        vertical-align: middle;\n",
              "    }\n",
              "\n",
              "    .dataframe tbody tr th {\n",
              "        vertical-align: top;\n",
              "    }\n",
              "\n",
              "    .dataframe thead th {\n",
              "        text-align: right;\n",
              "    }\n",
              "</style>\n",
              "<table border=\"1\" class=\"dataframe\">\n",
              "  <thead>\n",
              "    <tr style=\"text-align: right;\">\n",
              "      <th></th>\n",
              "      <th>count</th>\n",
              "    </tr>\n",
              "    <tr>\n",
              "      <th>payment_type</th>\n",
              "      <th></th>\n",
              "    </tr>\n",
              "  </thead>\n",
              "  <tbody>\n",
              "    <tr>\n",
              "      <th>credit_card</th>\n",
              "      <td>76795</td>\n",
              "    </tr>\n",
              "    <tr>\n",
              "      <th>boleto</th>\n",
              "      <td>19784</td>\n",
              "    </tr>\n",
              "    <tr>\n",
              "      <th>voucher</th>\n",
              "      <td>5769</td>\n",
              "    </tr>\n",
              "    <tr>\n",
              "      <th>debit_card</th>\n",
              "      <td>1529</td>\n",
              "    </tr>\n",
              "  </tbody>\n",
              "</table>\n",
              "</div><br><label><b>dtype:</b> int64</label>"
            ]
          },
          "metadata": {},
          "execution_count": 18
        }
      ]
    },
    {
      "cell_type": "markdown",
      "source": [
        "- Distribusi rating ulasan pelanggan"
      ],
      "metadata": {
        "id": "ijoBNocHXG37"
      }
    },
    {
      "cell_type": "code",
      "source": [
        "review_counts = datasets[\"order_reviews\"][\"review_score\"].value_counts().sort_index()\n",
        "review_counts"
      ],
      "metadata": {
        "colab": {
          "base_uri": "https://localhost:8080/",
          "height": 272
        },
        "id": "enjws1QeXJQb",
        "outputId": "f121d4b7-26cd-4a71-c028-6ab7c5199143"
      },
      "execution_count": 19,
      "outputs": [
        {
          "output_type": "execute_result",
          "data": {
            "text/plain": [
              "review_score\n",
              "1    11424\n",
              "2     3151\n",
              "3     8179\n",
              "4    19142\n",
              "5    57328\n",
              "Name: count, dtype: int64"
            ],
            "text/html": [
              "<div>\n",
              "<style scoped>\n",
              "    .dataframe tbody tr th:only-of-type {\n",
              "        vertical-align: middle;\n",
              "    }\n",
              "\n",
              "    .dataframe tbody tr th {\n",
              "        vertical-align: top;\n",
              "    }\n",
              "\n",
              "    .dataframe thead th {\n",
              "        text-align: right;\n",
              "    }\n",
              "</style>\n",
              "<table border=\"1\" class=\"dataframe\">\n",
              "  <thead>\n",
              "    <tr style=\"text-align: right;\">\n",
              "      <th></th>\n",
              "      <th>count</th>\n",
              "    </tr>\n",
              "    <tr>\n",
              "      <th>review_score</th>\n",
              "      <th></th>\n",
              "    </tr>\n",
              "  </thead>\n",
              "  <tbody>\n",
              "    <tr>\n",
              "      <th>1</th>\n",
              "      <td>11424</td>\n",
              "    </tr>\n",
              "    <tr>\n",
              "      <th>2</th>\n",
              "      <td>3151</td>\n",
              "    </tr>\n",
              "    <tr>\n",
              "      <th>3</th>\n",
              "      <td>8179</td>\n",
              "    </tr>\n",
              "    <tr>\n",
              "      <th>4</th>\n",
              "      <td>19142</td>\n",
              "    </tr>\n",
              "    <tr>\n",
              "      <th>5</th>\n",
              "      <td>57328</td>\n",
              "    </tr>\n",
              "  </tbody>\n",
              "</table>\n",
              "</div><br><label><b>dtype:</b> int64</label>"
            ]
          },
          "metadata": {},
          "execution_count": 19
        }
      ]
    },
    {
      "cell_type": "markdown",
      "source": [
        "- Mengelompokkan Data (Grouping & Aggregation)"
      ],
      "metadata": {
        "id": "TfP7zmr9XLKN"
      }
    },
    {
      "cell_type": "markdown",
      "source": [
        "* Rata-rata waktu pengiriman per kategori produk"
      ],
      "metadata": {
        "id": "wbPybi5AXQJ2"
      }
    },
    {
      "cell_type": "code",
      "source": [
        "datasets[\"orders\"][\"delivery_time\"] = (datasets[\"orders\"][\"order_delivered_customer_date\"] -\n",
        "                                       datasets[\"orders\"][\"order_purchase_timestamp\"]).dt.days\n",
        "\n",
        "order_items = datasets[\"order_items\"].merge(datasets[\"products\"], on=\"product_id\", how=\"left\")\n",
        "order_items = order_items.merge(datasets[\"orders\"][[\"order_id\", \"delivery_time\"]], on=\"order_id\", how=\"left\")\n",
        "\n",
        "delivery_by_category = order_items.groupby(\"product_category_name\")[\"delivery_time\"].mean().sort_values()\n",
        "delivery_by_category"
      ],
      "metadata": {
        "colab": {
          "base_uri": "https://localhost:8080/",
          "height": 489
        },
        "id": "fxXmJN-YXS_K",
        "outputId": "2157d66d-bd4c-4764-f062-1599a2267359"
      },
      "execution_count": 20,
      "outputs": [
        {
          "output_type": "execute_result",
          "data": {
            "text/plain": [
              "product_category_name\n",
              "artes_e_artesanato                                5.291667\n",
              "la_cuisine                                        7.071429\n",
              "livros_importados                                 7.750000\n",
              "portateis_cozinha_e_preparadores_de_alimentos     7.785714\n",
              "fashion_roupa_infanto_juvenil                     8.142857\n",
              "                                                   ...    \n",
              "casa_conforto_2                                  14.066667\n",
              "fashion_calcados                                 14.933852\n",
              "seguros_e_servicos                               15.000000\n",
              "artigos_de_natal                                 15.300000\n",
              "moveis_escritorio                                20.397720\n",
              "Name: delivery_time, Length: 73, dtype: float64"
            ],
            "text/html": [
              "<div>\n",
              "<style scoped>\n",
              "    .dataframe tbody tr th:only-of-type {\n",
              "        vertical-align: middle;\n",
              "    }\n",
              "\n",
              "    .dataframe tbody tr th {\n",
              "        vertical-align: top;\n",
              "    }\n",
              "\n",
              "    .dataframe thead th {\n",
              "        text-align: right;\n",
              "    }\n",
              "</style>\n",
              "<table border=\"1\" class=\"dataframe\">\n",
              "  <thead>\n",
              "    <tr style=\"text-align: right;\">\n",
              "      <th></th>\n",
              "      <th>delivery_time</th>\n",
              "    </tr>\n",
              "    <tr>\n",
              "      <th>product_category_name</th>\n",
              "      <th></th>\n",
              "    </tr>\n",
              "  </thead>\n",
              "  <tbody>\n",
              "    <tr>\n",
              "      <th>artes_e_artesanato</th>\n",
              "      <td>5.291667</td>\n",
              "    </tr>\n",
              "    <tr>\n",
              "      <th>la_cuisine</th>\n",
              "      <td>7.071429</td>\n",
              "    </tr>\n",
              "    <tr>\n",
              "      <th>livros_importados</th>\n",
              "      <td>7.750000</td>\n",
              "    </tr>\n",
              "    <tr>\n",
              "      <th>portateis_cozinha_e_preparadores_de_alimentos</th>\n",
              "      <td>7.785714</td>\n",
              "    </tr>\n",
              "    <tr>\n",
              "      <th>fashion_roupa_infanto_juvenil</th>\n",
              "      <td>8.142857</td>\n",
              "    </tr>\n",
              "    <tr>\n",
              "      <th>...</th>\n",
              "      <td>...</td>\n",
              "    </tr>\n",
              "    <tr>\n",
              "      <th>casa_conforto_2</th>\n",
              "      <td>14.066667</td>\n",
              "    </tr>\n",
              "    <tr>\n",
              "      <th>fashion_calcados</th>\n",
              "      <td>14.933852</td>\n",
              "    </tr>\n",
              "    <tr>\n",
              "      <th>seguros_e_servicos</th>\n",
              "      <td>15.000000</td>\n",
              "    </tr>\n",
              "    <tr>\n",
              "      <th>artigos_de_natal</th>\n",
              "      <td>15.300000</td>\n",
              "    </tr>\n",
              "    <tr>\n",
              "      <th>moveis_escritorio</th>\n",
              "      <td>20.397720</td>\n",
              "    </tr>\n",
              "  </tbody>\n",
              "</table>\n",
              "<p>73 rows × 1 columns</p>\n",
              "</div><br><label><b>dtype:</b> float64</label>"
            ]
          },
          "metadata": {},
          "execution_count": 20
        }
      ]
    },
    {
      "cell_type": "markdown",
      "source": [
        "- Total jumlah transaksi per metode pembayaran"
      ],
      "metadata": {
        "id": "f0HXfdMRYA5D"
      }
    },
    {
      "cell_type": "code",
      "source": [
        "payment_summary = datasets[\"order_payments\"].groupby(\"payment_type\")[\"payment_value\"].sum().sort_values(ascending=False)\n",
        "payment_summary"
      ],
      "metadata": {
        "colab": {
          "base_uri": "https://localhost:8080/",
          "height": 241
        },
        "id": "QKuloEfWYB4Y",
        "outputId": "f0727d8a-f6d7-43fb-a0df-552eec4288fd"
      },
      "execution_count": 21,
      "outputs": [
        {
          "output_type": "execute_result",
          "data": {
            "text/plain": [
              "payment_type\n",
              "credit_card    12542084.19\n",
              "boleto          2869361.27\n",
              "voucher          379436.87\n",
              "debit_card       217989.79\n",
              "Name: payment_value, dtype: float64"
            ],
            "text/html": [
              "<div>\n",
              "<style scoped>\n",
              "    .dataframe tbody tr th:only-of-type {\n",
              "        vertical-align: middle;\n",
              "    }\n",
              "\n",
              "    .dataframe tbody tr th {\n",
              "        vertical-align: top;\n",
              "    }\n",
              "\n",
              "    .dataframe thead th {\n",
              "        text-align: right;\n",
              "    }\n",
              "</style>\n",
              "<table border=\"1\" class=\"dataframe\">\n",
              "  <thead>\n",
              "    <tr style=\"text-align: right;\">\n",
              "      <th></th>\n",
              "      <th>payment_value</th>\n",
              "    </tr>\n",
              "    <tr>\n",
              "      <th>payment_type</th>\n",
              "      <th></th>\n",
              "    </tr>\n",
              "  </thead>\n",
              "  <tbody>\n",
              "    <tr>\n",
              "      <th>credit_card</th>\n",
              "      <td>12542084.19</td>\n",
              "    </tr>\n",
              "    <tr>\n",
              "      <th>boleto</th>\n",
              "      <td>2869361.27</td>\n",
              "    </tr>\n",
              "    <tr>\n",
              "      <th>voucher</th>\n",
              "      <td>379436.87</td>\n",
              "    </tr>\n",
              "    <tr>\n",
              "      <th>debit_card</th>\n",
              "      <td>217989.79</td>\n",
              "    </tr>\n",
              "  </tbody>\n",
              "</table>\n",
              "</div><br><label><b>dtype:</b> float64</label>"
            ]
          },
          "metadata": {},
          "execution_count": 21
        }
      ]
    },
    {
      "cell_type": "markdown",
      "source": [
        "- Rata-rata rating berdasarkan kategori produk"
      ],
      "metadata": {
        "id": "dGCUHRAPYEQO"
      }
    },
    {
      "cell_type": "code",
      "source": [
        "reviews = datasets[\"order_reviews\"].merge(datasets[\"orders\"][[\"order_id\"]], on=\"order_id\", how=\"left\")\n",
        "reviews = reviews.merge(order_items[[\"order_id\", \"product_category_name\"]], on=\"order_id\", how=\"left\")\n",
        "\n",
        "avg_review_per_category = reviews.groupby(\"product_category_name\")[\"review_score\"].mean().sort_values()\n",
        "avg_review_per_category"
      ],
      "metadata": {
        "colab": {
          "base_uri": "https://localhost:8080/",
          "height": 489
        },
        "id": "fIE0dcdeYHnh",
        "outputId": "bcd38bb6-9ef0-4b93-dfe2-0fea85290cee"
      },
      "execution_count": 22,
      "outputs": [
        {
          "output_type": "execute_result",
          "data": {
            "text/plain": [
              "product_category_name\n",
              "seguros_e_servicos                               2.500000\n",
              "fraldas_higiene                                  3.256410\n",
              "portateis_cozinha_e_preparadores_de_alimentos    3.266667\n",
              "pc_gamer                                         3.333333\n",
              "moveis_escritorio                                3.492289\n",
              "                                                   ...   \n",
              "flores                                           4.419355\n",
              "construcao_ferramentas_ferramentas               4.444444\n",
              "livros_interesse_geral                           4.446266\n",
              "fashion_roupa_infanto_juvenil                    4.500000\n",
              "cds_dvds_musicais                                4.642857\n",
              "Name: review_score, Length: 73, dtype: float64"
            ],
            "text/html": [
              "<div>\n",
              "<style scoped>\n",
              "    .dataframe tbody tr th:only-of-type {\n",
              "        vertical-align: middle;\n",
              "    }\n",
              "\n",
              "    .dataframe tbody tr th {\n",
              "        vertical-align: top;\n",
              "    }\n",
              "\n",
              "    .dataframe thead th {\n",
              "        text-align: right;\n",
              "    }\n",
              "</style>\n",
              "<table border=\"1\" class=\"dataframe\">\n",
              "  <thead>\n",
              "    <tr style=\"text-align: right;\">\n",
              "      <th></th>\n",
              "      <th>review_score</th>\n",
              "    </tr>\n",
              "    <tr>\n",
              "      <th>product_category_name</th>\n",
              "      <th></th>\n",
              "    </tr>\n",
              "  </thead>\n",
              "  <tbody>\n",
              "    <tr>\n",
              "      <th>seguros_e_servicos</th>\n",
              "      <td>2.500000</td>\n",
              "    </tr>\n",
              "    <tr>\n",
              "      <th>fraldas_higiene</th>\n",
              "      <td>3.256410</td>\n",
              "    </tr>\n",
              "    <tr>\n",
              "      <th>portateis_cozinha_e_preparadores_de_alimentos</th>\n",
              "      <td>3.266667</td>\n",
              "    </tr>\n",
              "    <tr>\n",
              "      <th>pc_gamer</th>\n",
              "      <td>3.333333</td>\n",
              "    </tr>\n",
              "    <tr>\n",
              "      <th>moveis_escritorio</th>\n",
              "      <td>3.492289</td>\n",
              "    </tr>\n",
              "    <tr>\n",
              "      <th>...</th>\n",
              "      <td>...</td>\n",
              "    </tr>\n",
              "    <tr>\n",
              "      <th>flores</th>\n",
              "      <td>4.419355</td>\n",
              "    </tr>\n",
              "    <tr>\n",
              "      <th>construcao_ferramentas_ferramentas</th>\n",
              "      <td>4.444444</td>\n",
              "    </tr>\n",
              "    <tr>\n",
              "      <th>livros_interesse_geral</th>\n",
              "      <td>4.446266</td>\n",
              "    </tr>\n",
              "    <tr>\n",
              "      <th>fashion_roupa_infanto_juvenil</th>\n",
              "      <td>4.500000</td>\n",
              "    </tr>\n",
              "    <tr>\n",
              "      <th>cds_dvds_musicais</th>\n",
              "      <td>4.642857</td>\n",
              "    </tr>\n",
              "  </tbody>\n",
              "</table>\n",
              "<p>73 rows × 1 columns</p>\n",
              "</div><br><label><b>dtype:</b> float64</label>"
            ]
          },
          "metadata": {},
          "execution_count": 22
        }
      ]
    },
    {
      "cell_type": "markdown",
      "source": [
        "**Insight:**\n",
        "- Hasil eksplorasi statistik menunjukkan bahwa data memiliki variasi unik yang cukup besar dalam beberapa kolom, seperti order_status, payment_type, dan review_score. Sebagian besar pesanan berada dalam status \"delivered\", sementara metode pembayaran yang paling umum digunakan adalah \"credit_card\". Distribusi ulasan pelanggan menunjukkan bahwa rating 5 adalah yang paling sering diberikan, namun terdapat juga rating rendah yang bisa mencerminkan pengalaman negatif pelanggan.\n",
        "- Rata-rata waktu pengiriman bervariasi antar kategori produk, dengan beberapa kategori memiliki waktu lebih lama dari yang lain. Ini dapat dipengaruhi oleh faktor seperti lokasi penjual atau jenis produk yang dikirim. Selain itu, rata-rata rating produk menunjukkan bahwa beberapa kategori memiliki kepuasan pelanggan lebih tinggi dibanding yang lain. Dengan memahami pola ini, perusahaan dapat mengoptimalkan layanan pengiriman dan meningkatkan kualitas produk untuk kategori tertentu."
      ],
      "metadata": {
        "id": "th_Lzl2Fkj9O"
      }
    },
    {
      "cell_type": "markdown",
      "metadata": {
        "id": "zsyZjqak8DC2"
      },
      "source": [
        "## Visualization & Explanatory Analysis"
      ]
    },
    {
      "cell_type": "markdown",
      "metadata": {
        "id": "HZxOiQ6n8DC2"
      },
      "source": [
        "### Pertanyaan 1: Berapa rata-rata jumlah pembayaran per transaksi?"
      ]
    },
    {
      "cell_type": "code",
      "execution_count": 23,
      "metadata": {
        "id": "1swJUdAD8DC2",
        "colab": {
          "base_uri": "https://localhost:8080/",
          "height": 967
        },
        "outputId": "06d0ccae-2f5a-4ee4-9c3d-8755ae13900a"
      },
      "outputs": [
        {
          "output_type": "display_data",
          "data": {
            "text/plain": [
              "<Figure size 1200x600 with 1 Axes>"
            ],
            "image/png": "[encoded data removed]"
          },
          "metadata": {}
        },
        {
          "output_type": "display_data",
          "data": {
            "text/plain": [
              "<Figure size 1200x400 with 1 Axes>"
            ],
            "image/png": "[encoded data removed]"
          },
          "metadata": {}
        }
      ],
      "source": [
        "avg_payment = datasets[\"order_payments\"].groupby(\"order_id\")[\"payment_value\"].mean()\n",
        "\n",
        "plt.figure(figsize=(12, 6))\n",
        "sns.histplot(avg_payment, bins=50, kde=True, color='#1f77b4', edgecolor='black', alpha=0.75)\n",
        "mean_value = avg_payment.mean()\n",
        "plt.axvline(mean_value, color='red', linestyle='dashed', linewidth=2, label=f'Rata-rata: {mean_value:,.2f}')\n",
        "plt.text(mean_value, plt.ylim()[1] * 0.9, f'{mean_value:,.2f}', color='red', ha='right', fontsize=12, fontweight='bold')\n",
        "\n",
        "plt.xlabel(\"Rata-rata Pembayaran (BRL)\", fontsize=12)\n",
        "plt.ylabel(\"Jumlah Transaksi\", fontsize=12)\n",
        "plt.title(\"Distribusi Rata-rata Pembayaran per Transaksi\", fontsize=14, fontweight='bold')\n",
        "plt.legend()\n",
        "plt.grid(axis='y', linestyle='--', alpha=0.6)\n",
        "plt.show()\n",
        "\n",
        "plt.figure(figsize=(12, 4))\n",
        "sns.boxplot(x=avg_payment, color='#ff7f0e', linewidth=1.2, width=0.5, boxprops={'alpha':0.7})\n",
        "plt.axvline(mean_value, color='blue', linestyle='dashed', linewidth=2, label=f'Rata-rata: {mean_value:,.2f}')\n",
        "plt.text(mean_value, 0.05, f'{mean_value:,.2f}', color='blue', ha='right', fontsize=12, fontweight='bold')\n",
        "\n",
        "plt.xlabel(\"Rata-rata Pembayaran (BRL)\", fontsize=12)\n",
        "plt.title(\"Boxplot Rata-rata Pembayaran per Transaksi\", fontsize=14, fontweight='bold')\n",
        "plt.legend()\n",
        "plt.show()"
      ]
    },
    {
      "cell_type": "markdown",
      "metadata": {
        "id": "DgHI7CiU8DC2"
      },
      "source": [
        "### Pertanyaan 2: Bagaimana distribusi skor ulasan pelanggan?"
      ]
    },
    {
      "cell_type": "code",
      "execution_count": 24,
      "metadata": {
        "id": "Go0lCsvO8DC2",
        "colab": {
          "base_uri": "https://localhost:8080/",
          "height": 1000
        },
        "outputId": "9ea5d210-e0e8-4863-cd1f-59f8ea46a065"
      },
      "outputs": [
        {
          "output_type": "stream",
          "name": "stderr",
          "text": [
            "<ipython-input-24-a35cf7132ae4>:4: FutureWarning: \n",
            "\n",
            "Passing `palette` without assigning `hue` is deprecated and will be removed in v0.14.0. Assign the `x` variable to `hue` and set `legend=False` for the same effect.\n",
            "\n",
            "  sns.barplot(x=review_counts.index, y=review_counts.values, palette=\"Blues_r\", edgecolor=\"black\")\n"
          ]
        },
        {
          "output_type": "display_data",
          "data": {
            "text/plain": [
              "<Figure size 1000x500 with 1 Axes>"
            ],
            "image/png": "[encoded data removed]"
          },
          "metadata": {}
        },
        {
          "output_type": "display_data",
          "data": {
            "text/plain": [
              "<Figure size 700x700 with 1 Axes>"
            ],
            "image/png": "[encoded data removed]"
          },
          "metadata": {}
        }
      ],
      "source": [
        "review_counts = datasets[\"order_reviews\"][\"review_score\"].value_counts().sort_index()\n",
        "\n",
        "plt.figure(figsize=(10, 5))\n",
        "sns.barplot(x=review_counts.index, y=review_counts.values, palette=\"Blues_r\", edgecolor=\"black\")\n",
        "plt.xlabel(\"Skor Ulasan\", fontsize=12)\n",
        "plt.ylabel(\"Jumlah Ulasan\", fontsize=12)\n",
        "plt.title(\"Distribusi Skor Ulasan Pelanggan\", fontsize=14, fontweight='bold')\n",
        "plt.xticks(ticks=review_counts.index, fontsize=11)\n",
        "\n",
        "for i, v in enumerate(review_counts.values):\n",
        "    plt.text(i, v + 500, f\"{v:,.0f}\", ha='center', fontsize=11, fontweight='bold')\n",
        "\n",
        "plt.grid(axis=\"y\", linestyle=\"--\", alpha=0.7)\n",
        "plt.show()\n",
        "\n",
        "plt.figure(figsize=(7, 7))\n",
        "colors = sns.color_palette(\"Blues_r\", len(review_counts))\n",
        "plt.pie(review_counts, labels=review_counts.index, autopct=lambda p: f'{p:.1f}%' if p > 0 else '',\n",
        "        colors=colors, startangle=140, wedgeprops={\"edgecolor\": \"black\"})\n",
        "\n",
        "plt.title(\"Proporsi Skor Ulasan Pelanggan\", fontsize=14, fontweight='bold')\n",
        "plt.show()"
      ]
    },
    {
      "cell_type": "markdown",
      "source": [
        "**Insight:**\n",
        "- Histogram menunjukkan bagaimana distribusi jumlah pembayaran per transaksi. Jika terdapat puncak di nilai tertentu, itu menunjukkan transaksi sering terjadi di rentang tersebut. Boxplot membantu mengidentifikasi outlier, seperti transaksi dengan jumlah pembayaran yang sangat tinggi.\n",
        "-  Barplot menunjukkan jumlah ulasan pelanggan berdasarkan skor (1-5). Jika skor 5 mendominasi, berarti banyak pelanggan puas. Pie chart membantu melihat proporsi skor ulasan secara lebih jelas. Jika skor rendah cukup banyak, berarti ada masalah yang perlu dianalisis lebih lanjut."
      ],
      "metadata": {
        "id": "_0-36BDLklRg"
      }
    },
    {
      "cell_type": "markdown",
      "source": [
        "## Analisis Lanjutan (Opsional)"
      ],
      "metadata": {
        "id": "9y4VUsmcYNZ5"
      }
    },
    {
      "cell_type": "markdown",
      "source": [
        "- RFM Analysis (Recency, Frequency, Monetary)"
      ],
      "metadata": {
        "id": "TrjBZz-IaXcW"
      }
    },
    {
      "cell_type": "code",
      "source": [
        "latest_order_date = datasets[\"orders\"][\"order_purchase_timestamp\"].max()\n",
        "\n",
        "rfm_df = datasets[\"orders\"].merge(datasets[\"order_payments\"], on=\"order_id\", how=\"left\").groupby(\"customer_id\").agg({\n",
        "    \"order_purchase_timestamp\": lambda x: (latest_order_date - x.max()).days,\n",
        "    \"order_id\": \"count\",\n",
        "    \"payment_value\": \"sum\"\n",
        "}).rename(columns={\n",
        "    \"order_purchase_timestamp\": \"Recency\",\n",
        "    \"order_id\": \"Frequency\",\n",
        "    \"payment_value\": \"Monetary\"\n",
        "})\n",
        "\n",
        "print(rfm_df.head())"
      ],
      "metadata": {
        "id": "iWhnzsJGYUCO",
        "colab": {
          "base_uri": "https://localhost:8080/"
        },
        "outputId": "19f1deaf-8305-4162-f263-abd151b7788a"
      },
      "execution_count": 25,
      "outputs": [
        {
          "output_type": "stream",
          "name": "stdout",
          "text": [
            "                                  Recency  Frequency  Monetary\n",
            "customer_id                                                   \n",
            "00012a2ce6f8dcda20d059ce98491703      337          1    114.74\n",
            "000161a058600d5901f007fab4c27140      458          1     67.41\n",
            "0001fd6190edaaf884bcaf3d49edf079      596          1    195.42\n",
            "0002414f95344307404f0ace7a26f1d5      427          1    179.35\n",
            "000379cdec625522490c315e70c7a9fb      198          1    107.01\n"
          ]
        }
      ]
    },
    {
      "cell_type": "markdown",
      "source": [
        "- Clustering"
      ],
      "metadata": {
        "id": "yBE1QiGkajFG"
      }
    },
    {
      "cell_type": "code",
      "source": [
        "def categorize_customer(value):\n",
        "    if value >= 1000:\n",
        "        return \"High Spender\"\n",
        "    elif value >= 500:\n",
        "        return \"Medium Spender\"\n",
        "    else:\n",
        "        return \"Low Spender\"\n",
        "\n",
        "rfm_df[\"Customer Category\"] = rfm_df[\"Monetary\"].apply(categorize_customer)\n",
        "print(rfm_df[\"Customer Category\"].value_counts())"
      ],
      "metadata": {
        "colab": {
          "base_uri": "https://localhost:8080/"
        },
        "id": "Bh9qwrEUakIY",
        "outputId": "4bcfc51b-a7ae-4eb5-f86d-b1be7476fdab"
      },
      "execution_count": 26,
      "outputs": [
        {
          "output_type": "stream",
          "name": "stdout",
          "text": [
            "Customer Category\n",
            "Low Spender       95145\n",
            "Medium Spender     3122\n",
            "High Spender       1174\n",
            "Name: count, dtype: int64\n"
          ]
        }
      ]
    },
    {
      "cell_type": "markdown",
      "source": [
        "- Binning"
      ],
      "metadata": {
        "id": "SdjxPCmfapSK"
      }
    },
    {
      "cell_type": "code",
      "source": [
        "rfm_df[\"Frequency Category\"] = pd.cut(rfm_df[\"Frequency\"], bins=[0, 1, 3, 10, 50], labels=[\"One-time\", \"Occasional\", \"Frequent\", \"Very Frequent\"])\n",
        "print(rfm_df[\"Frequency Category\"].value_counts())"
      ],
      "metadata": {
        "colab": {
          "base_uri": "https://localhost:8080/"
        },
        "id": "Ld_b1lQcaqXL",
        "outputId": "a579b9ed-a363-4787-9474-ff7f05bec913"
      },
      "execution_count": 27,
      "outputs": [
        {
          "output_type": "stream",
          "name": "stdout",
          "text": [
            "Frequency Category\n",
            "One-time         96480\n",
            "Occasional        2686\n",
            "Frequent           246\n",
            "Very Frequent       29\n",
            "Name: count, dtype: int64\n"
          ]
        }
      ]
    },
    {
      "cell_type": "markdown",
      "source": [
        "**Insight:**\n",
        "- RFM Analysis recency mengukur seberapa baru pelanggan terakhir kali melakukan transaksi. Pelanggan dengan nilai recency rendah lebih aktif dibandingkan yang tinggi.\n",
        "- Clustering dan Binning kategori pelanggan berdasarkan pengeluaran (Customer Category) memudahkan bisnis dalam memberikan promosi atau layanan khusus kepada pelanggan High Spender, Medium Spender, dan Low Spender."
      ],
      "metadata": {
        "id": "X-iKg89Aau7Y"
      }
    },
    {
      "cell_type": "markdown",
      "metadata": {
        "id": "_WeHlCeX8DC2"
      },
      "source": [
        "## Conclusion"
      ]
    },
    {
      "cell_type": "markdown",
      "metadata": {
        "id": "ZTcyR48Y8DC2"
      },
      "source": [
        "### Berapa rata-rata jumlah pembayaran per transaksi?\n",
        "- Jika rata-rata pembayaran cukup tinggi, ini bisa menunjukkan bahwa pelanggan membeli lebih dari satu produk per transaksi atau produk yang dijual memiliki harga yang relatif tinggi.\n",
        "- Jika terlalu rendah, bisa menjadi indikasi untuk meningkatkan strategi upselling (misalnya, menawarkan diskon untuk pembelian dalam jumlah lebih banyak).\n",
        "\n",
        "### Bagaimana distribusi skor ulasan pelanggan?\n",
        "- Jika ingin meningkatkan skor ulasan, bisa dilakukan strategi seperti memperbaiki kualitas layanan pengiriman, memberikan diskon untuk pelanggan loyal, atau meningkatkan kualitas customer service.\n",
        "- Bisa juga melakukan analisis teks dari review_comment_message untuk memahami alasan utama pelanggan memberi skor rendah."
      ]
    }
  ],
  "metadata": {
    "kernelspec": {
      "display_name": "Python 3",
      "language": "python",
      "name": "python3"
    },
    "language_info": {
      "name": "python",
      "version": "3.8.0 (tags/v3.8.0:fa919fd, Oct 14 2019, 19:21:23) [MSC v.1916 32 bit (Intel)]"
    },
    "orig_nbformat": 4,
    "vscode": {
      "interpreter": {
        "hash": "972b3bf27e332e87b5379f2791f6ef9dfc79c71018c370b0d7423235e20fe4d7"
      }
    },
    "colab": {
      "provenance": []
    }
  },
  "nbformat": 4,
  "nbformat_minor": 0
}